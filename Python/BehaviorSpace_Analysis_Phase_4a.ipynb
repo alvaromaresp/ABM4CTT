{
 "cells": [
  {
   "cell_type": "code",
   "execution_count": 1,
   "metadata": {},
   "outputs": [],
   "source": [
    "import pandas as pd\n",
    "import matplotlib.pyplot as plt\n",
    "plt.style.use('ggplot')\n",
    "import numpy as np\n",
    "\n",
    "from scipy.stats import pearsonr\n",
    "\n",
    "%matplotlib inline"
   ]
  },
  {
   "cell_type": "code",
   "execution_count": 2,
   "metadata": {},
   "outputs": [],
   "source": [
    "expDF = pd.read_csv('data/BehaviorSpace/phase_04/phase_04a.csv')\n",
    "\n",
    "expDF.rename(columns={'(list (report-crimes-per-hour) (total-crimes))': 'results', \n",
    "                      '[step]':'step', '[run number]':'run_number'}, inplace=True)"
   ]
  },
  {
   "cell_type": "code",
   "execution_count": 3,
   "metadata": {},
   "outputs": [],
   "source": [
    "# Getting the total of robberies\n",
    "total_robberies_temp = expDF.results.str.split(']', expand=True)\n",
    "# Converting all values to int and adding to the DF\n",
    "expDF['num_crimes'] = total_robberies_temp[1].str.strip().astype(int)"
   ]
  },
  {
   "cell_type": "code",
   "execution_count": 4,
   "metadata": {},
   "outputs": [],
   "source": [
    "# Convert the crimes distribution vector to a python list\n",
    "expDF['crimes_dist'] = [list(map(int, i.split(' '))) for i in total_robberies_temp[0].str.split('[', expand=True)[2]]\n",
    "# Delete the column results\n",
    "expDF.drop(['results'], axis=1, inplace=True)"
   ]
  },
  {
   "cell_type": "code",
   "execution_count": 5,
   "metadata": {},
   "outputs": [
    {
     "data": {
      "text/html": [
       "<div>\n",
       "<style scoped>\n",
       "    .dataframe tbody tr th:only-of-type {\n",
       "        vertical-align: middle;\n",
       "    }\n",
       "\n",
       "    .dataframe tbody tr th {\n",
       "        vertical-align: top;\n",
       "    }\n",
       "\n",
       "    .dataframe thead th {\n",
       "        text-align: right;\n",
       "    }\n",
       "</style>\n",
       "<table border=\"1\" class=\"dataframe\">\n",
       "  <thead>\n",
       "    <tr style=\"text-align: right;\">\n",
       "      <th></th>\n",
       "      <th>run_number</th>\n",
       "      <th>awareness-sf</th>\n",
       "      <th>motivation-sf</th>\n",
       "      <th>motivation-threshold</th>\n",
       "      <th>num-offenders</th>\n",
       "      <th>num-people</th>\n",
       "      <th>graphics-view</th>\n",
       "      <th>step</th>\n",
       "      <th>num_crimes</th>\n",
       "      <th>crimes_dist</th>\n",
       "    </tr>\n",
       "  </thead>\n",
       "  <tbody>\n",
       "    <tr>\n",
       "      <td>0</td>\n",
       "      <td>1</td>\n",
       "      <td>0.8</td>\n",
       "      <td>0.01</td>\n",
       "      <td>0.9</td>\n",
       "      <td>10</td>\n",
       "      <td>10000</td>\n",
       "      <td>False</td>\n",
       "      <td>0</td>\n",
       "      <td>0</td>\n",
       "      <td>[0, 0, 0, 0, 0, 0, 0, 0, 0, 0, 0, 0, 0, 0, 0, ...</td>\n",
       "    </tr>\n",
       "    <tr>\n",
       "      <td>1</td>\n",
       "      <td>2</td>\n",
       "      <td>0.8</td>\n",
       "      <td>0.01</td>\n",
       "      <td>0.9</td>\n",
       "      <td>10</td>\n",
       "      <td>10000</td>\n",
       "      <td>False</td>\n",
       "      <td>0</td>\n",
       "      <td>0</td>\n",
       "      <td>[0, 0, 0, 0, 0, 0, 0, 0, 0, 0, 0, 0, 0, 0, 0, ...</td>\n",
       "    </tr>\n",
       "  </tbody>\n",
       "</table>\n",
       "</div>"
      ],
      "text/plain": [
       "   run_number  awareness-sf  motivation-sf  motivation-threshold  \\\n",
       "0           1           0.8           0.01                   0.9   \n",
       "1           2           0.8           0.01                   0.9   \n",
       "\n",
       "   num-offenders  num-people  graphics-view  step  num_crimes  \\\n",
       "0             10       10000          False     0           0   \n",
       "1             10       10000          False     0           0   \n",
       "\n",
       "                                         crimes_dist  \n",
       "0  [0, 0, 0, 0, 0, 0, 0, 0, 0, 0, 0, 0, 0, 0, 0, ...  \n",
       "1  [0, 0, 0, 0, 0, 0, 0, 0, 0, 0, 0, 0, 0, 0, 0, ...  "
      ]
     },
     "execution_count": 5,
     "metadata": {},
     "output_type": "execute_result"
    }
   ],
   "source": [
    "expDF.head(2)"
   ]
  },
  {
   "cell_type": "code",
   "execution_count": 6,
   "metadata": {},
   "outputs": [],
   "source": [
    "# Get only the final step of the simulation\n",
    "expDF_Final = expDF[expDF.step == max(expDF.step)]"
   ]
  },
  {
   "cell_type": "code",
   "execution_count": 7,
   "metadata": {},
   "outputs": [],
   "source": [
    "expDF_Final.reset_index(drop=True, inplace=True)"
   ]
  },
  {
   "cell_type": "code",
   "execution_count": 8,
   "metadata": {},
   "outputs": [
    {
     "data": {
      "text/html": [
       "<div>\n",
       "<style scoped>\n",
       "    .dataframe tbody tr th:only-of-type {\n",
       "        vertical-align: middle;\n",
       "    }\n",
       "\n",
       "    .dataframe tbody tr th {\n",
       "        vertical-align: top;\n",
       "    }\n",
       "\n",
       "    .dataframe thead th {\n",
       "        text-align: right;\n",
       "    }\n",
       "</style>\n",
       "<table border=\"1\" class=\"dataframe\">\n",
       "  <thead>\n",
       "    <tr style=\"text-align: right;\">\n",
       "      <th></th>\n",
       "      <th>run_number</th>\n",
       "      <th>awareness-sf</th>\n",
       "      <th>motivation-sf</th>\n",
       "      <th>motivation-threshold</th>\n",
       "      <th>num-offenders</th>\n",
       "      <th>num-people</th>\n",
       "      <th>graphics-view</th>\n",
       "      <th>step</th>\n",
       "      <th>num_crimes</th>\n",
       "      <th>crimes_dist</th>\n",
       "    </tr>\n",
       "  </thead>\n",
       "  <tbody>\n",
       "    <tr>\n",
       "      <td>0</td>\n",
       "      <td>2</td>\n",
       "      <td>0.8</td>\n",
       "      <td>0.01</td>\n",
       "      <td>0.9</td>\n",
       "      <td>10</td>\n",
       "      <td>10000</td>\n",
       "      <td>False</td>\n",
       "      <td>52703</td>\n",
       "      <td>86</td>\n",
       "      <td>[7, 5, 4, 1, 5, 3, 4, 0, 2, 0, 0, 0, 0, 4, 2, ...</td>\n",
       "    </tr>\n",
       "    <tr>\n",
       "      <td>1</td>\n",
       "      <td>3</td>\n",
       "      <td>0.8</td>\n",
       "      <td>0.01</td>\n",
       "      <td>0.9</td>\n",
       "      <td>10</td>\n",
       "      <td>10000</td>\n",
       "      <td>False</td>\n",
       "      <td>52703</td>\n",
       "      <td>83</td>\n",
       "      <td>[8, 3, 3, 3, 6, 4, 3, 0, 1, 0, 0, 0, 1, 1, 2, ...</td>\n",
       "    </tr>\n",
       "    <tr>\n",
       "      <td>2</td>\n",
       "      <td>8</td>\n",
       "      <td>0.8</td>\n",
       "      <td>0.01</td>\n",
       "      <td>0.9</td>\n",
       "      <td>10</td>\n",
       "      <td>10000</td>\n",
       "      <td>False</td>\n",
       "      <td>52703</td>\n",
       "      <td>87</td>\n",
       "      <td>[9, 1, 7, 3, 5, 2, 4, 1, 1, 0, 0, 0, 1, 2, 1, ...</td>\n",
       "    </tr>\n",
       "    <tr>\n",
       "      <td>3</td>\n",
       "      <td>6</td>\n",
       "      <td>0.8</td>\n",
       "      <td>0.01</td>\n",
       "      <td>0.9</td>\n",
       "      <td>10</td>\n",
       "      <td>10000</td>\n",
       "      <td>False</td>\n",
       "      <td>52703</td>\n",
       "      <td>82</td>\n",
       "      <td>[4, 6, 2, 2, 4, 7, 3, 1, 0, 0, 0, 0, 0, 1, 5, ...</td>\n",
       "    </tr>\n",
       "    <tr>\n",
       "      <td>4</td>\n",
       "      <td>4</td>\n",
       "      <td>0.8</td>\n",
       "      <td>0.01</td>\n",
       "      <td>0.9</td>\n",
       "      <td>10</td>\n",
       "      <td>10000</td>\n",
       "      <td>False</td>\n",
       "      <td>52703</td>\n",
       "      <td>83</td>\n",
       "      <td>[8, 3, 2, 3, 4, 3, 2, 0, 0, 0, 0, 0, 0, 2, 1, ...</td>\n",
       "    </tr>\n",
       "    <tr>\n",
       "      <td>5</td>\n",
       "      <td>5</td>\n",
       "      <td>0.8</td>\n",
       "      <td>0.01</td>\n",
       "      <td>0.9</td>\n",
       "      <td>10</td>\n",
       "      <td>10000</td>\n",
       "      <td>False</td>\n",
       "      <td>52703</td>\n",
       "      <td>85</td>\n",
       "      <td>[7, 5, 6, 0, 4, 6, 4, 0, 0, 0, 0, 0, 0, 3, 0, ...</td>\n",
       "    </tr>\n",
       "    <tr>\n",
       "      <td>6</td>\n",
       "      <td>7</td>\n",
       "      <td>0.8</td>\n",
       "      <td>0.01</td>\n",
       "      <td>0.9</td>\n",
       "      <td>10</td>\n",
       "      <td>10000</td>\n",
       "      <td>False</td>\n",
       "      <td>52703</td>\n",
       "      <td>88</td>\n",
       "      <td>[4, 0, 5, 3, 7, 3, 2, 0, 1, 0, 0, 2, 1, 4, 0, ...</td>\n",
       "    </tr>\n",
       "    <tr>\n",
       "      <td>7</td>\n",
       "      <td>1</td>\n",
       "      <td>0.8</td>\n",
       "      <td>0.01</td>\n",
       "      <td>0.9</td>\n",
       "      <td>10</td>\n",
       "      <td>10000</td>\n",
       "      <td>False</td>\n",
       "      <td>52703</td>\n",
       "      <td>84</td>\n",
       "      <td>[4, 5, 4, 2, 12, 8, 3, 0, 0, 0, 0, 0, 1, 1, 5,...</td>\n",
       "    </tr>\n",
       "    <tr>\n",
       "      <td>8</td>\n",
       "      <td>9</td>\n",
       "      <td>0.8</td>\n",
       "      <td>0.01</td>\n",
       "      <td>0.9</td>\n",
       "      <td>10</td>\n",
       "      <td>10000</td>\n",
       "      <td>False</td>\n",
       "      <td>52703</td>\n",
       "      <td>83</td>\n",
       "      <td>[6, 3, 6, 2, 6, 5, 1, 1, 1, 0, 0, 0, 1, 0, 4, ...</td>\n",
       "    </tr>\n",
       "    <tr>\n",
       "      <td>9</td>\n",
       "      <td>10</td>\n",
       "      <td>0.8</td>\n",
       "      <td>0.01</td>\n",
       "      <td>0.9</td>\n",
       "      <td>10</td>\n",
       "      <td>10000</td>\n",
       "      <td>False</td>\n",
       "      <td>52703</td>\n",
       "      <td>88</td>\n",
       "      <td>[8, 7, 5, 0, 3, 8, 2, 2, 0, 0, 0, 1, 1, 0, 1, ...</td>\n",
       "    </tr>\n",
       "  </tbody>\n",
       "</table>\n",
       "</div>"
      ],
      "text/plain": [
       "   run_number  awareness-sf  motivation-sf  motivation-threshold  \\\n",
       "0           2           0.8           0.01                   0.9   \n",
       "1           3           0.8           0.01                   0.9   \n",
       "2           8           0.8           0.01                   0.9   \n",
       "3           6           0.8           0.01                   0.9   \n",
       "4           4           0.8           0.01                   0.9   \n",
       "5           5           0.8           0.01                   0.9   \n",
       "6           7           0.8           0.01                   0.9   \n",
       "7           1           0.8           0.01                   0.9   \n",
       "8           9           0.8           0.01                   0.9   \n",
       "9          10           0.8           0.01                   0.9   \n",
       "\n",
       "   num-offenders  num-people  graphics-view   step  num_crimes  \\\n",
       "0             10       10000          False  52703          86   \n",
       "1             10       10000          False  52703          83   \n",
       "2             10       10000          False  52703          87   \n",
       "3             10       10000          False  52703          82   \n",
       "4             10       10000          False  52703          83   \n",
       "5             10       10000          False  52703          85   \n",
       "6             10       10000          False  52703          88   \n",
       "7             10       10000          False  52703          84   \n",
       "8             10       10000          False  52703          83   \n",
       "9             10       10000          False  52703          88   \n",
       "\n",
       "                                         crimes_dist  \n",
       "0  [7, 5, 4, 1, 5, 3, 4, 0, 2, 0, 0, 0, 0, 4, 2, ...  \n",
       "1  [8, 3, 3, 3, 6, 4, 3, 0, 1, 0, 0, 0, 1, 1, 2, ...  \n",
       "2  [9, 1, 7, 3, 5, 2, 4, 1, 1, 0, 0, 0, 1, 2, 1, ...  \n",
       "3  [4, 6, 2, 2, 4, 7, 3, 1, 0, 0, 0, 0, 0, 1, 5, ...  \n",
       "4  [8, 3, 2, 3, 4, 3, 2, 0, 0, 0, 0, 0, 0, 2, 1, ...  \n",
       "5  [7, 5, 6, 0, 4, 6, 4, 0, 0, 0, 0, 0, 0, 3, 0, ...  \n",
       "6  [4, 0, 5, 3, 7, 3, 2, 0, 1, 0, 0, 2, 1, 4, 0, ...  \n",
       "7  [4, 5, 4, 2, 12, 8, 3, 0, 0, 0, 0, 0, 1, 1, 5,...  \n",
       "8  [6, 3, 6, 2, 6, 5, 1, 1, 1, 0, 0, 0, 1, 0, 4, ...  \n",
       "9  [8, 7, 5, 0, 3, 8, 2, 2, 0, 0, 0, 1, 1, 0, 1, ...  "
      ]
     },
     "execution_count": 8,
     "metadata": {},
     "output_type": "execute_result"
    }
   ],
   "source": [
    "expDF_Final"
   ]
  },
  {
   "cell_type": "code",
   "execution_count": 9,
   "metadata": {},
   "outputs": [],
   "source": [
    "#empData = [13, 13, 19, 19, 9, 9, 2, 2, 1, 1, 3, 3, 5, 5, 4, 4, 4, 4, 9, 9, 25, 25, 19, 19]\n",
    "empData = [7, 6, 13, 6, 2, 7, 2, 0, 0, 1, 0, 3, 3, 2, 3, 1, 3, 1, 3, 6, 12, 13, 8, 11]"
   ]
  },
  {
   "cell_type": "code",
   "execution_count": 10,
   "metadata": {},
   "outputs": [
    {
     "data": {
      "text/plain": [
       "(0.6083334686625002, 0.0016105173657342553)"
      ]
     },
     "execution_count": 10,
     "metadata": {},
     "output_type": "execute_result"
    }
   ],
   "source": [
    "corr, p_value = pearsonr(empData, expDF_Final.crimes_dist[0])\n",
    "corr, p_value"
   ]
  },
  {
   "cell_type": "code",
   "execution_count": 11,
   "metadata": {},
   "outputs": [
    {
     "data": {
      "text/plain": [
       "Text(0, 0.5, 'Simulated Data')"
      ]
     },
     "execution_count": 11,
     "metadata": {},
     "output_type": "execute_result"
    },
    {
     "data": {
      "image/png": "[encoded data removed]",
      "text/plain": [
       "<Figure size 432x288 with 1 Axes>"
      ]
     },
     "metadata": {
      "needs_background": "light"
     },
     "output_type": "display_data"
    }
   ],
   "source": [
    "plt.scatter(empData, expDF_Final.crimes_dist[0], marker='x')\n",
    "plt.xlabel('Empirical Data')\n",
    "plt.ylabel('Simulated Data')"
   ]
  },
  {
   "cell_type": "code",
   "execution_count": 12,
   "metadata": {},
   "outputs": [
    {
     "data": {
      "text/plain": [
       "<matplotlib.legend.Legend at 0x12eccdcd0>"
      ]
     },
     "execution_count": 12,
     "metadata": {},
     "output_type": "execute_result"
    },
    {
     "data": {
      "image/png": "[encoded data removed]",
      "text/plain": [
       "<Figure size 1152x432 with 1 Axes>"
      ]
     },
     "metadata": {
      "needs_background": "light"
     },
     "output_type": "display_data"
    }
   ],
   "source": [
    "x = range(0,24)\n",
    "plt.figure(figsize=((16,6)))\n",
    "plt.scatter(x, expDF_Final.crimes_dist[0], marker='x', c='red', label='Simulation')\n",
    "plt.xlabel('Time of the day (h)')\n",
    "plt.ylabel('Data')\n",
    "plt.scatter(x, empData, marker='.', c='blue', label='Empirical')\n",
    "plt.legend()\n"
   ]
  },
  {
   "cell_type": "code",
   "execution_count": 13,
   "metadata": {},
   "outputs": [
    {
     "name": "stderr",
     "output_type": "stream",
     "text": [
      "/Users/eric/Documents/CrimAI/code/Python/.venv/lib/python3.7/site-packages/ipykernel_launcher.py:2: SettingWithCopyWarning: \n",
      "A value is trying to be set on a copy of a slice from a DataFrame.\n",
      "Try using .loc[row_indexer,col_indexer] = value instead\n",
      "\n",
      "See the caveats in the documentation: http://pandas.pydata.org/pandas-docs/stable/user_guide/indexing.html#returning-a-view-versus-a-copy\n",
      "  \n",
      "/Users/eric/Documents/CrimAI/code/Python/.venv/lib/python3.7/site-packages/ipykernel_launcher.py:4: SettingWithCopyWarning: \n",
      "A value is trying to be set on a copy of a slice from a DataFrame.\n",
      "Try using .loc[row_indexer,col_indexer] = value instead\n",
      "\n",
      "See the caveats in the documentation: http://pandas.pydata.org/pandas-docs/stable/user_guide/indexing.html#returning-a-view-versus-a-copy\n",
      "  after removing the cwd from sys.path.\n"
     ]
    }
   ],
   "source": [
    "expDF_Final['corr'] = [pearsonr(empData, row['crimes_dist'])[0] \n",
    "                       for index, row in expDF_Final.iterrows() ]\n",
    "expDF_Final['p_value'] = [pearsonr(empData, row['crimes_dist'])[1] \n",
    "                          for index, row in expDF_Final.iterrows() ]"
   ]
  },
  {
   "cell_type": "code",
   "execution_count": 14,
   "metadata": {},
   "outputs": [
    {
     "data": {
      "text/html": [
       "<div>\n",
       "<style scoped>\n",
       "    .dataframe tbody tr th:only-of-type {\n",
       "        vertical-align: middle;\n",
       "    }\n",
       "\n",
       "    .dataframe tbody tr th {\n",
       "        vertical-align: top;\n",
       "    }\n",
       "\n",
       "    .dataframe thead th {\n",
       "        text-align: right;\n",
       "    }\n",
       "</style>\n",
       "<table border=\"1\" class=\"dataframe\">\n",
       "  <thead>\n",
       "    <tr style=\"text-align: right;\">\n",
       "      <th></th>\n",
       "      <th>crimes_dist</th>\n",
       "      <th>corr</th>\n",
       "      <th>p_value</th>\n",
       "    </tr>\n",
       "  </thead>\n",
       "  <tbody>\n",
       "    <tr>\n",
       "      <td>0</td>\n",
       "      <td>[7, 5, 4, 1, 5, 3, 4, 0, 2, 0, 0, 0, 0, 4, 2, ...</td>\n",
       "      <td>0.608333</td>\n",
       "      <td>0.001611</td>\n",
       "    </tr>\n",
       "    <tr>\n",
       "      <td>1</td>\n",
       "      <td>[8, 3, 3, 3, 6, 4, 3, 0, 1, 0, 0, 0, 1, 1, 2, ...</td>\n",
       "      <td>0.580172</td>\n",
       "      <td>0.002959</td>\n",
       "    </tr>\n",
       "    <tr>\n",
       "      <td>2</td>\n",
       "      <td>[9, 1, 7, 3, 5, 2, 4, 1, 1, 0, 0, 0, 1, 2, 1, ...</td>\n",
       "      <td>0.566451</td>\n",
       "      <td>0.003905</td>\n",
       "    </tr>\n",
       "    <tr>\n",
       "      <td>3</td>\n",
       "      <td>[4, 6, 2, 2, 4, 7, 3, 1, 0, 0, 0, 0, 0, 1, 5, ...</td>\n",
       "      <td>0.576202</td>\n",
       "      <td>0.003210</td>\n",
       "    </tr>\n",
       "    <tr>\n",
       "      <td>4</td>\n",
       "      <td>[8, 3, 2, 3, 4, 3, 2, 0, 0, 0, 0, 0, 0, 2, 1, ...</td>\n",
       "      <td>0.648160</td>\n",
       "      <td>0.000615</td>\n",
       "    </tr>\n",
       "    <tr>\n",
       "      <td>5</td>\n",
       "      <td>[7, 5, 6, 0, 4, 6, 4, 0, 0, 0, 0, 0, 0, 3, 0, ...</td>\n",
       "      <td>0.669582</td>\n",
       "      <td>0.000345</td>\n",
       "    </tr>\n",
       "    <tr>\n",
       "      <td>6</td>\n",
       "      <td>[4, 0, 5, 3, 7, 3, 2, 0, 1, 0, 0, 2, 1, 4, 0, ...</td>\n",
       "      <td>0.600401</td>\n",
       "      <td>0.001922</td>\n",
       "    </tr>\n",
       "    <tr>\n",
       "      <td>7</td>\n",
       "      <td>[4, 5, 4, 2, 12, 8, 3, 0, 0, 0, 0, 0, 1, 1, 5,...</td>\n",
       "      <td>0.372081</td>\n",
       "      <td>0.073385</td>\n",
       "    </tr>\n",
       "    <tr>\n",
       "      <td>8</td>\n",
       "      <td>[6, 3, 6, 2, 6, 5, 1, 1, 1, 0, 0, 0, 1, 0, 4, ...</td>\n",
       "      <td>0.533965</td>\n",
       "      <td>0.007198</td>\n",
       "    </tr>\n",
       "    <tr>\n",
       "      <td>9</td>\n",
       "      <td>[8, 7, 5, 0, 3, 8, 2, 2, 0, 0, 0, 1, 1, 0, 1, ...</td>\n",
       "      <td>0.592772</td>\n",
       "      <td>0.002269</td>\n",
       "    </tr>\n",
       "  </tbody>\n",
       "</table>\n",
       "</div>"
      ],
      "text/plain": [
       "                                         crimes_dist      corr   p_value\n",
       "0  [7, 5, 4, 1, 5, 3, 4, 0, 2, 0, 0, 0, 0, 4, 2, ...  0.608333  0.001611\n",
       "1  [8, 3, 3, 3, 6, 4, 3, 0, 1, 0, 0, 0, 1, 1, 2, ...  0.580172  0.002959\n",
       "2  [9, 1, 7, 3, 5, 2, 4, 1, 1, 0, 0, 0, 1, 2, 1, ...  0.566451  0.003905\n",
       "3  [4, 6, 2, 2, 4, 7, 3, 1, 0, 0, 0, 0, 0, 1, 5, ...  0.576202  0.003210\n",
       "4  [8, 3, 2, 3, 4, 3, 2, 0, 0, 0, 0, 0, 0, 2, 1, ...  0.648160  0.000615\n",
       "5  [7, 5, 6, 0, 4, 6, 4, 0, 0, 0, 0, 0, 0, 3, 0, ...  0.669582  0.000345\n",
       "6  [4, 0, 5, 3, 7, 3, 2, 0, 1, 0, 0, 2, 1, 4, 0, ...  0.600401  0.001922\n",
       "7  [4, 5, 4, 2, 12, 8, 3, 0, 0, 0, 0, 0, 1, 1, 5,...  0.372081  0.073385\n",
       "8  [6, 3, 6, 2, 6, 5, 1, 1, 1, 0, 0, 0, 1, 0, 4, ...  0.533965  0.007198\n",
       "9  [8, 7, 5, 0, 3, 8, 2, 2, 0, 0, 0, 1, 1, 0, 1, ...  0.592772  0.002269"
      ]
     },
     "execution_count": 14,
     "metadata": {},
     "output_type": "execute_result"
    }
   ],
   "source": [
    "expDF_Final[['crimes_dist','corr', 'p_value']]"
   ]
  },
  {
   "cell_type": "code",
   "execution_count": 15,
   "metadata": {},
   "outputs": [
    {
     "data": {
      "text/plain": [
       "[[7, 5, 4, 1, 5, 3, 4, 0, 2, 0, 0, 0, 0, 4, 2, 4, 4, 4, 6, 4, 5, 10, 6, 6],\n",
       " [8, 3, 3, 3, 6, 4, 3, 0, 1, 0, 0, 0, 1, 1, 2, 3, 6, 3, 5, 8, 6, 6, 4, 7],\n",
       " [9, 1, 7, 3, 5, 2, 4, 1, 1, 0, 0, 0, 1, 2, 1, 1, 6, 6, 6, 3, 2, 8, 9, 9],\n",
       " [4, 6, 2, 2, 4, 7, 3, 1, 0, 0, 0, 0, 0, 1, 5, 1, 2, 2, 5, 7, 9, 5, 12, 4],\n",
       " [8, 3, 2, 3, 4, 3, 2, 0, 0, 0, 0, 0, 0, 2, 1, 1, 5, 4, 4, 9, 7, 9, 10, 6],\n",
       " [7, 5, 6, 0, 4, 6, 4, 0, 0, 0, 0, 0, 0, 3, 0, 3, 4, 4, 6, 7, 4, 8, 7, 7],\n",
       " [4, 0, 5, 3, 7, 3, 2, 0, 1, 0, 0, 2, 1, 4, 0, 1, 4, 7, 6, 6, 6, 11, 9, 6],\n",
       " [4, 5, 4, 2, 12, 8, 3, 0, 0, 0, 0, 0, 1, 1, 5, 4, 2, 5, 5, 2, 5, 4, 3, 9],\n",
       " [6, 3, 6, 2, 6, 5, 1, 1, 1, 0, 0, 0, 1, 0, 4, 1, 4, 7, 5, 10, 5, 6, 5, 4],\n",
       " [8, 7, 5, 0, 3, 8, 2, 2, 0, 0, 0, 1, 1, 0, 1, 2, 4, 4, 4, 8, 8, 4, 12, 4]]"
      ]
     },
     "execution_count": 15,
     "metadata": {},
     "output_type": "execute_result"
    }
   ],
   "source": [
    "list(expDF_Final[expDF_Final.p_value < 0.1].crimes_dist)"
   ]
  },
  {
   "cell_type": "code",
   "execution_count": 16,
   "metadata": {},
   "outputs": [
    {
     "data": {
      "text/html": [
       "<div>\n",
       "<style scoped>\n",
       "    .dataframe tbody tr th:only-of-type {\n",
       "        vertical-align: middle;\n",
       "    }\n",
       "\n",
       "    .dataframe tbody tr th {\n",
       "        vertical-align: top;\n",
       "    }\n",
       "\n",
       "    .dataframe thead th {\n",
       "        text-align: right;\n",
       "    }\n",
       "</style>\n",
       "<table border=\"1\" class=\"dataframe\">\n",
       "  <thead>\n",
       "    <tr style=\"text-align: right;\">\n",
       "      <th></th>\n",
       "      <th>run_number</th>\n",
       "      <th>awareness-sf</th>\n",
       "      <th>motivation-sf</th>\n",
       "      <th>motivation-threshold</th>\n",
       "      <th>num-offenders</th>\n",
       "      <th>num-people</th>\n",
       "      <th>graphics-view</th>\n",
       "      <th>step</th>\n",
       "      <th>num_crimes</th>\n",
       "      <th>crimes_dist</th>\n",
       "      <th>corr</th>\n",
       "      <th>p_value</th>\n",
       "    </tr>\n",
       "  </thead>\n",
       "  <tbody>\n",
       "    <tr>\n",
       "      <td>0</td>\n",
       "      <td>2</td>\n",
       "      <td>0.8</td>\n",
       "      <td>0.01</td>\n",
       "      <td>0.9</td>\n",
       "      <td>10</td>\n",
       "      <td>10000</td>\n",
       "      <td>False</td>\n",
       "      <td>52703</td>\n",
       "      <td>86</td>\n",
       "      <td>[7, 5, 4, 1, 5, 3, 4, 0, 2, 0, 0, 0, 0, 4, 2, ...</td>\n",
       "      <td>0.608333</td>\n",
       "      <td>0.001611</td>\n",
       "    </tr>\n",
       "    <tr>\n",
       "      <td>1</td>\n",
       "      <td>3</td>\n",
       "      <td>0.8</td>\n",
       "      <td>0.01</td>\n",
       "      <td>0.9</td>\n",
       "      <td>10</td>\n",
       "      <td>10000</td>\n",
       "      <td>False</td>\n",
       "      <td>52703</td>\n",
       "      <td>83</td>\n",
       "      <td>[8, 3, 3, 3, 6, 4, 3, 0, 1, 0, 0, 0, 1, 1, 2, ...</td>\n",
       "      <td>0.580172</td>\n",
       "      <td>0.002959</td>\n",
       "    </tr>\n",
       "    <tr>\n",
       "      <td>2</td>\n",
       "      <td>8</td>\n",
       "      <td>0.8</td>\n",
       "      <td>0.01</td>\n",
       "      <td>0.9</td>\n",
       "      <td>10</td>\n",
       "      <td>10000</td>\n",
       "      <td>False</td>\n",
       "      <td>52703</td>\n",
       "      <td>87</td>\n",
       "      <td>[9, 1, 7, 3, 5, 2, 4, 1, 1, 0, 0, 0, 1, 2, 1, ...</td>\n",
       "      <td>0.566451</td>\n",
       "      <td>0.003905</td>\n",
       "    </tr>\n",
       "    <tr>\n",
       "      <td>3</td>\n",
       "      <td>6</td>\n",
       "      <td>0.8</td>\n",
       "      <td>0.01</td>\n",
       "      <td>0.9</td>\n",
       "      <td>10</td>\n",
       "      <td>10000</td>\n",
       "      <td>False</td>\n",
       "      <td>52703</td>\n",
       "      <td>82</td>\n",
       "      <td>[4, 6, 2, 2, 4, 7, 3, 1, 0, 0, 0, 0, 0, 1, 5, ...</td>\n",
       "      <td>0.576202</td>\n",
       "      <td>0.003210</td>\n",
       "    </tr>\n",
       "    <tr>\n",
       "      <td>4</td>\n",
       "      <td>4</td>\n",
       "      <td>0.8</td>\n",
       "      <td>0.01</td>\n",
       "      <td>0.9</td>\n",
       "      <td>10</td>\n",
       "      <td>10000</td>\n",
       "      <td>False</td>\n",
       "      <td>52703</td>\n",
       "      <td>83</td>\n",
       "      <td>[8, 3, 2, 3, 4, 3, 2, 0, 0, 0, 0, 0, 0, 2, 1, ...</td>\n",
       "      <td>0.648160</td>\n",
       "      <td>0.000615</td>\n",
       "    </tr>\n",
       "    <tr>\n",
       "      <td>5</td>\n",
       "      <td>5</td>\n",
       "      <td>0.8</td>\n",
       "      <td>0.01</td>\n",
       "      <td>0.9</td>\n",
       "      <td>10</td>\n",
       "      <td>10000</td>\n",
       "      <td>False</td>\n",
       "      <td>52703</td>\n",
       "      <td>85</td>\n",
       "      <td>[7, 5, 6, 0, 4, 6, 4, 0, 0, 0, 0, 0, 0, 3, 0, ...</td>\n",
       "      <td>0.669582</td>\n",
       "      <td>0.000345</td>\n",
       "    </tr>\n",
       "    <tr>\n",
       "      <td>6</td>\n",
       "      <td>7</td>\n",
       "      <td>0.8</td>\n",
       "      <td>0.01</td>\n",
       "      <td>0.9</td>\n",
       "      <td>10</td>\n",
       "      <td>10000</td>\n",
       "      <td>False</td>\n",
       "      <td>52703</td>\n",
       "      <td>88</td>\n",
       "      <td>[4, 0, 5, 3, 7, 3, 2, 0, 1, 0, 0, 2, 1, 4, 0, ...</td>\n",
       "      <td>0.600401</td>\n",
       "      <td>0.001922</td>\n",
       "    </tr>\n",
       "    <tr>\n",
       "      <td>8</td>\n",
       "      <td>9</td>\n",
       "      <td>0.8</td>\n",
       "      <td>0.01</td>\n",
       "      <td>0.9</td>\n",
       "      <td>10</td>\n",
       "      <td>10000</td>\n",
       "      <td>False</td>\n",
       "      <td>52703</td>\n",
       "      <td>83</td>\n",
       "      <td>[6, 3, 6, 2, 6, 5, 1, 1, 1, 0, 0, 0, 1, 0, 4, ...</td>\n",
       "      <td>0.533965</td>\n",
       "      <td>0.007198</td>\n",
       "    </tr>\n",
       "    <tr>\n",
       "      <td>9</td>\n",
       "      <td>10</td>\n",
       "      <td>0.8</td>\n",
       "      <td>0.01</td>\n",
       "      <td>0.9</td>\n",
       "      <td>10</td>\n",
       "      <td>10000</td>\n",
       "      <td>False</td>\n",
       "      <td>52703</td>\n",
       "      <td>88</td>\n",
       "      <td>[8, 7, 5, 0, 3, 8, 2, 2, 0, 0, 0, 1, 1, 0, 1, ...</td>\n",
       "      <td>0.592772</td>\n",
       "      <td>0.002269</td>\n",
       "    </tr>\n",
       "  </tbody>\n",
       "</table>\n",
       "</div>"
      ],
      "text/plain": [
       "   run_number  awareness-sf  motivation-sf  motivation-threshold  \\\n",
       "0           2           0.8           0.01                   0.9   \n",
       "1           3           0.8           0.01                   0.9   \n",
       "2           8           0.8           0.01                   0.9   \n",
       "3           6           0.8           0.01                   0.9   \n",
       "4           4           0.8           0.01                   0.9   \n",
       "5           5           0.8           0.01                   0.9   \n",
       "6           7           0.8           0.01                   0.9   \n",
       "8           9           0.8           0.01                   0.9   \n",
       "9          10           0.8           0.01                   0.9   \n",
       "\n",
       "   num-offenders  num-people  graphics-view   step  num_crimes  \\\n",
       "0             10       10000          False  52703          86   \n",
       "1             10       10000          False  52703          83   \n",
       "2             10       10000          False  52703          87   \n",
       "3             10       10000          False  52703          82   \n",
       "4             10       10000          False  52703          83   \n",
       "5             10       10000          False  52703          85   \n",
       "6             10       10000          False  52703          88   \n",
       "8             10       10000          False  52703          83   \n",
       "9             10       10000          False  52703          88   \n",
       "\n",
       "                                         crimes_dist      corr   p_value  \n",
       "0  [7, 5, 4, 1, 5, 3, 4, 0, 2, 0, 0, 0, 0, 4, 2, ...  0.608333  0.001611  \n",
       "1  [8, 3, 3, 3, 6, 4, 3, 0, 1, 0, 0, 0, 1, 1, 2, ...  0.580172  0.002959  \n",
       "2  [9, 1, 7, 3, 5, 2, 4, 1, 1, 0, 0, 0, 1, 2, 1, ...  0.566451  0.003905  \n",
       "3  [4, 6, 2, 2, 4, 7, 3, 1, 0, 0, 0, 0, 0, 1, 5, ...  0.576202  0.003210  \n",
       "4  [8, 3, 2, 3, 4, 3, 2, 0, 0, 0, 0, 0, 0, 2, 1, ...  0.648160  0.000615  \n",
       "5  [7, 5, 6, 0, 4, 6, 4, 0, 0, 0, 0, 0, 0, 3, 0, ...  0.669582  0.000345  \n",
       "6  [4, 0, 5, 3, 7, 3, 2, 0, 1, 0, 0, 2, 1, 4, 0, ...  0.600401  0.001922  \n",
       "8  [6, 3, 6, 2, 6, 5, 1, 1, 1, 0, 0, 0, 1, 0, 4, ...  0.533965  0.007198  \n",
       "9  [8, 7, 5, 0, 3, 8, 2, 2, 0, 0, 0, 1, 1, 0, 1, ...  0.592772  0.002269  "
      ]
     },
     "execution_count": 16,
     "metadata": {},
     "output_type": "execute_result"
    }
   ],
   "source": [
    "expDF_Final[expDF_Final.p_value < 0.05]"
   ]
  },
  {
   "cell_type": "code",
   "execution_count": 17,
   "metadata": {},
   "outputs": [
    {
     "data": {
      "text/html": [
       "<div>\n",
       "<style scoped>\n",
       "    .dataframe tbody tr th:only-of-type {\n",
       "        vertical-align: middle;\n",
       "    }\n",
       "\n",
       "    .dataframe tbody tr th {\n",
       "        vertical-align: top;\n",
       "    }\n",
       "\n",
       "    .dataframe thead th {\n",
       "        text-align: right;\n",
       "    }\n",
       "</style>\n",
       "<table border=\"1\" class=\"dataframe\">\n",
       "  <thead>\n",
       "    <tr style=\"text-align: right;\">\n",
       "      <th></th>\n",
       "      <th>0</th>\n",
       "      <th>1</th>\n",
       "      <th>2</th>\n",
       "      <th>3</th>\n",
       "      <th>4</th>\n",
       "      <th>5</th>\n",
       "      <th>6</th>\n",
       "      <th>7</th>\n",
       "      <th>8</th>\n",
       "      <th>9</th>\n",
       "      <th>...</th>\n",
       "      <th>14</th>\n",
       "      <th>15</th>\n",
       "      <th>16</th>\n",
       "      <th>17</th>\n",
       "      <th>18</th>\n",
       "      <th>19</th>\n",
       "      <th>20</th>\n",
       "      <th>21</th>\n",
       "      <th>22</th>\n",
       "      <th>23</th>\n",
       "    </tr>\n",
       "  </thead>\n",
       "  <tbody>\n",
       "    <tr>\n",
       "      <td>0</td>\n",
       "      <td>7</td>\n",
       "      <td>5</td>\n",
       "      <td>4</td>\n",
       "      <td>1</td>\n",
       "      <td>5</td>\n",
       "      <td>3</td>\n",
       "      <td>4</td>\n",
       "      <td>0</td>\n",
       "      <td>2</td>\n",
       "      <td>0</td>\n",
       "      <td>...</td>\n",
       "      <td>2</td>\n",
       "      <td>4</td>\n",
       "      <td>4</td>\n",
       "      <td>4</td>\n",
       "      <td>6</td>\n",
       "      <td>4</td>\n",
       "      <td>5</td>\n",
       "      <td>10</td>\n",
       "      <td>6</td>\n",
       "      <td>6</td>\n",
       "    </tr>\n",
       "    <tr>\n",
       "      <td>1</td>\n",
       "      <td>8</td>\n",
       "      <td>3</td>\n",
       "      <td>3</td>\n",
       "      <td>3</td>\n",
       "      <td>6</td>\n",
       "      <td>4</td>\n",
       "      <td>3</td>\n",
       "      <td>0</td>\n",
       "      <td>1</td>\n",
       "      <td>0</td>\n",
       "      <td>...</td>\n",
       "      <td>2</td>\n",
       "      <td>3</td>\n",
       "      <td>6</td>\n",
       "      <td>3</td>\n",
       "      <td>5</td>\n",
       "      <td>8</td>\n",
       "      <td>6</td>\n",
       "      <td>6</td>\n",
       "      <td>4</td>\n",
       "      <td>7</td>\n",
       "    </tr>\n",
       "    <tr>\n",
       "      <td>2</td>\n",
       "      <td>9</td>\n",
       "      <td>1</td>\n",
       "      <td>7</td>\n",
       "      <td>3</td>\n",
       "      <td>5</td>\n",
       "      <td>2</td>\n",
       "      <td>4</td>\n",
       "      <td>1</td>\n",
       "      <td>1</td>\n",
       "      <td>0</td>\n",
       "      <td>...</td>\n",
       "      <td>1</td>\n",
       "      <td>1</td>\n",
       "      <td>6</td>\n",
       "      <td>6</td>\n",
       "      <td>6</td>\n",
       "      <td>3</td>\n",
       "      <td>2</td>\n",
       "      <td>8</td>\n",
       "      <td>9</td>\n",
       "      <td>9</td>\n",
       "    </tr>\n",
       "    <tr>\n",
       "      <td>3</td>\n",
       "      <td>4</td>\n",
       "      <td>6</td>\n",
       "      <td>2</td>\n",
       "      <td>2</td>\n",
       "      <td>4</td>\n",
       "      <td>7</td>\n",
       "      <td>3</td>\n",
       "      <td>1</td>\n",
       "      <td>0</td>\n",
       "      <td>0</td>\n",
       "      <td>...</td>\n",
       "      <td>5</td>\n",
       "      <td>1</td>\n",
       "      <td>2</td>\n",
       "      <td>2</td>\n",
       "      <td>5</td>\n",
       "      <td>7</td>\n",
       "      <td>9</td>\n",
       "      <td>5</td>\n",
       "      <td>12</td>\n",
       "      <td>4</td>\n",
       "    </tr>\n",
       "    <tr>\n",
       "      <td>4</td>\n",
       "      <td>8</td>\n",
       "      <td>3</td>\n",
       "      <td>2</td>\n",
       "      <td>3</td>\n",
       "      <td>4</td>\n",
       "      <td>3</td>\n",
       "      <td>2</td>\n",
       "      <td>0</td>\n",
       "      <td>0</td>\n",
       "      <td>0</td>\n",
       "      <td>...</td>\n",
       "      <td>1</td>\n",
       "      <td>1</td>\n",
       "      <td>5</td>\n",
       "      <td>4</td>\n",
       "      <td>4</td>\n",
       "      <td>9</td>\n",
       "      <td>7</td>\n",
       "      <td>9</td>\n",
       "      <td>10</td>\n",
       "      <td>6</td>\n",
       "    </tr>\n",
       "  </tbody>\n",
       "</table>\n",
       "<p>5 rows × 24 columns</p>\n",
       "</div>"
      ],
      "text/plain": [
       "   0   1   2   3   4   5   6   7   8   9   ...  14  15  16  17  18  19  20  \\\n",
       "0   7   5   4   1   5   3   4   0   2   0  ...   2   4   4   4   6   4   5   \n",
       "1   8   3   3   3   6   4   3   0   1   0  ...   2   3   6   3   5   8   6   \n",
       "2   9   1   7   3   5   2   4   1   1   0  ...   1   1   6   6   6   3   2   \n",
       "3   4   6   2   2   4   7   3   1   0   0  ...   5   1   2   2   5   7   9   \n",
       "4   8   3   2   3   4   3   2   0   0   0  ...   1   1   5   4   4   9   7   \n",
       "\n",
       "   21  22  23  \n",
       "0  10   6   6  \n",
       "1   6   4   7  \n",
       "2   8   9   9  \n",
       "3   5  12   4  \n",
       "4   9  10   6  \n",
       "\n",
       "[5 rows x 24 columns]"
      ]
     },
     "execution_count": 17,
     "metadata": {},
     "output_type": "execute_result"
    }
   ],
   "source": [
    "results_list = np.array(expDF_Final.crimes_dist)\n",
    "results_list = [np.asarray(i) for i in results_list]\n",
    "results_df = pd.DataFrame(results_list)\n",
    "results_df.head()"
   ]
  },
  {
   "cell_type": "code",
   "execution_count": 18,
   "metadata": {},
   "outputs": [],
   "source": [
    "mean_results = list(results_df.mean())"
   ]
  },
  {
   "cell_type": "code",
   "execution_count": 19,
   "metadata": {},
   "outputs": [
    {
     "data": {
      "text/plain": [
       "(0.6882043894509015, 0.00020137243282865495)"
      ]
     },
     "execution_count": 19,
     "metadata": {},
     "output_type": "execute_result"
    }
   ],
   "source": [
    "pearsonr(empData, mean_results)"
   ]
  },
  {
   "cell_type": "code",
   "execution_count": 20,
   "metadata": {},
   "outputs": [
    {
     "data": {
      "text/plain": [
       "Text(0, 0.5, 'Simulated Data')"
      ]
     },
     "execution_count": 20,
     "metadata": {},
     "output_type": "execute_result"
    },
    {
     "data": {
      "image/png": "[encoded data removed]",
      "text/plain": [
       "<Figure size 864x432 with 1 Axes>"
      ]
     },
     "metadata": {
      "needs_background": "light"
     },
     "output_type": "display_data"
    }
   ],
   "source": [
    "plt.figure(figsize=((12,6)))\n",
    "plt.scatter(empData, mean_results, marker='x')\n",
    "plt.xlabel('Empirical Data')\n",
    "plt.ylabel('Simulated Data')"
   ]
  },
  {
   "cell_type": "code",
   "execution_count": 21,
   "metadata": {},
   "outputs": [
    {
     "data": {
      "text/plain": [
       "<matplotlib.legend.Legend at 0x12624e890>"
      ]
     },
     "execution_count": 21,
     "metadata": {},
     "output_type": "execute_result"
    },
    {
     "data": {
      "image/png": "[encoded data removed]",
      "text/plain": [
       "<Figure size 1152x432 with 1 Axes>"
      ]
     },
     "metadata": {
      "needs_background": "light"
     },
     "output_type": "display_data"
    }
   ],
   "source": [
    "x = range(0,24)\n",
    "plt.figure(figsize=((16,6)))\n",
    "plt.bar(x, mean_results, color='red', label='Simulation')\n",
    "plt.xlabel('Time of the day (h)')\n",
    "plt.ylabel('Number of robberies')\n",
    "plt.bar(x, empData, color='blue', label='Empirical', alpha=0.5)\n",
    "plt.legend()\n"
   ]
  },
  {
   "cell_type": "code",
   "execution_count": 22,
   "metadata": {},
   "outputs": [
    {
     "data": {
      "text/plain": [
       "113"
      ]
     },
     "execution_count": 22,
     "metadata": {},
     "output_type": "execute_result"
    }
   ],
   "source": [
    "sum(empData)"
   ]
  },
  {
   "cell_type": "code",
   "execution_count": 23,
   "metadata": {},
   "outputs": [
    {
     "data": {
      "text/plain": [
       "84.90000000000002"
      ]
     },
     "execution_count": 23,
     "metadata": {},
     "output_type": "execute_result"
    }
   ],
   "source": [
    "sum(mean_results)"
   ]
  },
  {
   "cell_type": "code",
   "execution_count": 24,
   "metadata": {},
   "outputs": [
    {
     "data": {
      "text/plain": [
       "[7, 6, 13, 6, 2, 7, 2, 0, 0, 1, 0, 3, 3, 2, 3, 1, 3, 1, 3, 6, 12, 13, 8, 11]"
      ]
     },
     "execution_count": 24,
     "metadata": {},
     "output_type": "execute_result"
    }
   ],
   "source": [
    "empData"
   ]
  },
  {
   "cell_type": "code",
   "execution_count": null,
   "metadata": {},
   "outputs": [],
   "source": []
  }
 ],
 "metadata": {
  "kernelspec": {
   "display_name": "Python 3",
   "language": "python",
   "name": "python3"
  },
  "language_info": {
   "codemirror_mode": {
    "name": "ipython",
    "version": 3
   },
   "file_extension": ".py",
   "mimetype": "text/x-python",
   "name": "python",
   "nbconvert_exporter": "python",
   "pygments_lexer": "ipython3",
   "version": "3.7.4"
  }
 },
 "nbformat": 4,
 "nbformat_minor": 2
}
